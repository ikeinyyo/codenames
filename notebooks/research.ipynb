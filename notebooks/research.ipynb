{
 "cells": [
  {
   "cell_type": "markdown",
   "id": "humanitarian-closing",
   "metadata": {},
   "source": [
    "# Research\n",
    "\n",
    "This notebook is for research about different word embedding libraries. The goal is know about the features of this library to select the best way to aboard our project.\n",
    "\n",
    "We are going to investigate about these libraries:\n",
    "- fasttext\n",
    "- gemsim\n",
    "- nltk\n",
    "- SpaCy"
   ]
  },
  {
   "cell_type": "code",
   "execution_count": 8,
   "id": "peripheral-mitchell",
   "metadata": {},
   "outputs": [],
   "source": [
    "import warnings\n",
    "warnings.filterwarnings('ignore')\n",
    "import fasttext\n",
    "import gensim\n",
    "import nltk\n",
    "import spacy"
   ]
  },
  {
   "cell_type": "code",
   "execution_count": 2,
   "id": "rocky-decrease",
   "metadata": {},
   "outputs": [],
   "source": [
    "board = {\n",
    "    'red': ['prensa', 'falda', 'cuchillo', 'misil', 'archivo', 'red', 'bosque', 'embajada'],\n",
    "    'blue': ['plomo', 'punta', 'puerto', 'pendiente', 'gancho', 'bota', 'botella', 'Londres', 'zanahoria'],\n",
    "    'neutral': ['pirata', 'olimpo', 'goma', 'paracaídas', 'cólera', 'ruleta', 'Argentina'],\n",
    "    'murderer': ['estado']\n",
    "}"
   ]
  },
  {
   "cell_type": "markdown",
   "id": "optimum-suite",
   "metadata": {},
   "source": [
    "## fasttext\n",
    "\n",
    "First, we are going to test `fasttext`. We are going to use a pretrained word embedding."
   ]
  },
  {
   "cell_type": "code",
   "execution_count": 21,
   "id": "charitable-minute",
   "metadata": {
    "scrolled": false
   },
   "outputs": [
    {
     "name": "stderr",
     "output_type": "stream",
     "text": [
      "Warning : `load_model` does not return WordVectorModel or SupervisedModel any more, but a `FastText` object which is very similar.\n"
     ]
    }
   ],
   "source": [
    "import fasttext.util\n",
    "\n",
    "FAST_TEXT_MODEL = \"cc.es.300.bin\" # Model name in fasttext\n",
    "\n",
    "fasttext.util.download_model('es', if_exists='ignore')  # Spanish\n",
    "ft = fasttext.load_model(FAST_TEXT_MODEL)"
   ]
  },
  {
   "cell_type": "code",
   "execution_count": 24,
   "id": "superior-basketball",
   "metadata": {},
   "outputs": [
    {
     "data": {
      "text/plain": [
       "[(0.7451867461204529, '-ropa'),\n",
       " (0.7219822406768799, 'ropita'),\n",
       " (0.7006562948226929, 'ropas'),\n",
       " (0.6829654574394226, 'lencería'),\n",
       " (0.6828590035438538, 'indumentaria'),\n",
       " (0.6634566187858582, 'ropa.'),\n",
       " (0.6600044369697571, 'prendas'),\n",
       " (0.6464620232582092, 'laropa'),\n",
       " (0.6463090181350708, 'ropa.Y'),\n",
       " (0.6461246609687805, 'ropa.La')]"
      ]
     },
     "execution_count": 24,
     "metadata": {},
     "output_type": "execute_result"
    }
   ],
   "source": [
    "ft.get_nearest_neighbors('ropa')"
   ]
  },
  {
   "cell_type": "markdown",
   "id": "polished-archive",
   "metadata": {},
   "source": [
    "As you can see, it is not a very useful."
   ]
  },
  {
   "cell_type": "markdown",
   "id": "controlled-czech",
   "metadata": {},
   "source": [
    "### Using gensim with FastText\n",
    "\n",
    "We can use FastText model with gensim to get the most similar words.\n",
    "\n",
    "More info [here](https://radimrehurek.com/gensim/models/fasttext.html)"
   ]
  },
  {
   "cell_type": "code",
   "execution_count": 25,
   "id": "written-gasoline",
   "metadata": {},
   "outputs": [],
   "source": [
    "from gensim.models import FastText\n",
    "model = FastText.load_fasttext_format(FAST_TEXT_MODEL)"
   ]
  },
  {
   "cell_type": "code",
   "execution_count": 40,
   "id": "private-logic",
   "metadata": {},
   "outputs": [
    {
     "data": {
      "text/plain": [
       "[('trozo', 0.5222485065460205),\n",
       " ('moto-sierra', 0.5117003917694092),\n",
       " ('supercañón', 0.5076452493667603),\n",
       " ('avión', 0.5039247274398804),\n",
       " ('taladora', 0.5023553371429443),\n",
       " ('helicóptero', 0.5008259415626526),\n",
       " ('navajilla', 0.49977535009384155),\n",
       " ('arma', 0.49449434876441956),\n",
       " ('cortadero', 0.4942677915096283),\n",
       " ('pilotillo', 0.4931870698928833)]"
      ]
     },
     "execution_count": 40,
     "metadata": {},
     "output_type": "execute_result"
    }
   ],
   "source": [
    "model.wv.most_similar(positive=board['red'])"
   ]
  },
  {
   "cell_type": "code",
   "execution_count": 41,
   "id": "accepting-screen",
   "metadata": {},
   "outputs": [],
   "source": [
    "similar_words = model.wv.most_similar(positive=board['red'], negative=board['murderer'])"
   ]
  },
  {
   "cell_type": "code",
   "execution_count": 56,
   "id": "requested-warner",
   "metadata": {},
   "outputs": [],
   "source": [
    "import numpy as np\n",
    "results = []\n",
    "for word in similar_words:\n",
    "    results.append({'word': word[0], 'results': list(map(lambda w: {\n",
    "        'word': w,\n",
    "        'distance': np.linalg.norm(ft.get_word_vector(w) - ft.get_word_vector(word[0]))\n",
    "    }, board['red']))}) "
   ]
  },
  {
   "cell_type": "code",
   "execution_count": 58,
   "id": "collect-radical",
   "metadata": {},
   "outputs": [
    {
     "data": {
      "text/plain": [
       "[{'word': 'moto-sierra',\n",
       "  'results': [{'word': 'prensa', 'distance': 0.8837527},\n",
       "   {'word': 'falda', 'distance': 1.1775761},\n",
       "   {'word': 'cuchillo', 'distance': 0.6353251},\n",
       "   {'word': 'misil', 'distance': 1.3958523},\n",
       "   {'word': 'archivo', 'distance': 0.86589664},\n",
       "   {'word': 'red', 'distance': 1.8994608},\n",
       "   {'word': 'bosque', 'distance': 0.8908189},\n",
       "   {'word': 'embajada', 'distance': 0.76522934}]},\n",
       " {'word': 'navajilla',\n",
       "  'results': [{'word': 'prensa', 'distance': 0.9269706},\n",
       "   {'word': 'falda', 'distance': 1.155475},\n",
       "   {'word': 'cuchillo', 'distance': 0.6195383},\n",
       "   {'word': 'misil', 'distance': 1.4194101},\n",
       "   {'word': 'archivo', 'distance': 0.9224154},\n",
       "   {'word': 'red', 'distance': 1.8965},\n",
       "   {'word': 'bosque', 'distance': 0.99281836},\n",
       "   {'word': 'embajada', 'distance': 0.81782246}]},\n",
       " {'word': 'macheta',\n",
       "  'results': [{'word': 'prensa', 'distance': 0.98485684},\n",
       "   {'word': 'falda', 'distance': 1.2174498},\n",
       "   {'word': 'cuchillo', 'distance': 0.59120625},\n",
       "   {'word': 'misil', 'distance': 1.4338566},\n",
       "   {'word': 'archivo', 'distance': 0.9559216},\n",
       "   {'word': 'red', 'distance': 1.960269},\n",
       "   {'word': 'bosque', 'distance': 0.99935055},\n",
       "   {'word': 'embajada', 'distance': 0.89251924}]},\n",
       " {'word': 'transbordadora',\n",
       "  'results': [{'word': 'prensa', 'distance': 0.8743554},\n",
       "   {'word': 'falda', 'distance': 1.1859071},\n",
       "   {'word': 'cuchillo', 'distance': 0.71669793},\n",
       "   {'word': 'misil', 'distance': 1.3498925},\n",
       "   {'word': 'archivo', 'distance': 0.78887},\n",
       "   {'word': 'red', 'distance': 1.872571},\n",
       "   {'word': 'bosque', 'distance': 0.9370007},\n",
       "   {'word': 'embajada', 'distance': 0.7197033}]},\n",
       " {'word': 'trozo',\n",
       "  'results': [{'word': 'prensa', 'distance': 1.35579},\n",
       "   {'word': 'falda', 'distance': 1.3710394},\n",
       "   {'word': 'cuchillo', 'distance': 0.96868795},\n",
       "   {'word': 'misil', 'distance': 1.6196127},\n",
       "   {'word': 'archivo', 'distance': 1.180282},\n",
       "   {'word': 'red', 'distance': 2.0568898},\n",
       "   {'word': 'bosque', 'distance': 1.2119166},\n",
       "   {'word': 'embajada', 'distance': 1.2954967}]},\n",
       " {'word': 'agujerea',\n",
       "  'results': [{'word': 'prensa', 'distance': 0.9951394},\n",
       "   {'word': 'falda', 'distance': 1.2298414},\n",
       "   {'word': 'cuchillo', 'distance': 0.71714324},\n",
       "   {'word': 'misil', 'distance': 1.387049},\n",
       "   {'word': 'archivo', 'distance': 1.0051023},\n",
       "   {'word': 'red', 'distance': 1.903585},\n",
       "   {'word': 'bosque', 'distance': 0.9848885},\n",
       "   {'word': 'embajada', 'distance': 0.8842664}]},\n",
       " {'word': 'cohetera',\n",
       "  'results': [{'word': 'prensa', 'distance': 1.0069851},\n",
       "   {'word': 'falda', 'distance': 1.2232975},\n",
       "   {'word': 'cuchillo', 'distance': 0.8668041},\n",
       "   {'word': 'misil', 'distance': 1.1979035},\n",
       "   {'word': 'archivo', 'distance': 0.9731566},\n",
       "   {'word': 'red', 'distance': 1.9061468},\n",
       "   {'word': 'bosque', 'distance': 1.0535108},\n",
       "   {'word': 'embajada', 'distance': 0.86533654}]},\n",
       " {'word': 'taladora',\n",
       "  'results': [{'word': 'prensa', 'distance': 0.9001271},\n",
       "   {'word': 'falda', 'distance': 1.23998},\n",
       "   {'word': 'cuchillo', 'distance': 0.75071245},\n",
       "   {'word': 'misil', 'distance': 1.4098331},\n",
       "   {'word': 'archivo', 'distance': 0.90085196},\n",
       "   {'word': 'red', 'distance': 1.8993952},\n",
       "   {'word': 'bosque', 'distance': 0.91554445},\n",
       "   {'word': 'embajada', 'distance': 0.81506634}]},\n",
       " {'word': 'coladora',\n",
       "  'results': [{'word': 'prensa', 'distance': 0.8675106},\n",
       "   {'word': 'falda', 'distance': 1.1846853},\n",
       "   {'word': 'cuchillo', 'distance': 0.6929378},\n",
       "   {'word': 'misil', 'distance': 1.4128804},\n",
       "   {'word': 'archivo', 'distance': 0.8811591},\n",
       "   {'word': 'red', 'distance': 1.8444227},\n",
       "   {'word': 'bosque', 'distance': 1.0107481},\n",
       "   {'word': 'embajada', 'distance': 0.776753}]},\n",
       " {'word': 'arma',\n",
       "  'results': [{'word': 'prensa', 'distance': 1.6077617},\n",
       "   {'word': 'falda', 'distance': 1.6585739},\n",
       "   {'word': 'cuchillo', 'distance': 1.2881383},\n",
       "   {'word': 'misil', 'distance': 1.5940013},\n",
       "   {'word': 'archivo', 'distance': 1.5929404},\n",
       "   {'word': 'red', 'distance': 2.2221534},\n",
       "   {'word': 'bosque', 'distance': 1.6784278},\n",
       "   {'word': 'embajada', 'distance': 1.5713047}]}]"
      ]
     },
     "execution_count": 58,
     "metadata": {},
     "output_type": "execute_result"
    }
   ],
   "source": [
    "results"
   ]
  },
  {
   "cell_type": "code",
   "execution_count": 60,
   "id": "fantastic-physics",
   "metadata": {},
   "outputs": [
    {
     "data": {
      "text/plain": [
       "[('cuchillito', 0.5495517253875732),\n",
       " ('hacha', 0.537045955657959),\n",
       " ('cuhillo', 0.5332930684089661),\n",
       " ('cuchillos', 0.5165868997573853),\n",
       " ('machete', 0.5149796605110168),\n",
       " ('chuchillo', 0.5114734172821045),\n",
       " ('cuchilo', 0.5101864337921143),\n",
       " ('puñal', 0.5012166500091553),\n",
       " ('bosqueque', 0.4940257668495178),\n",
       " ('bosqueEl', 0.48760658502578735)]"
      ]
     },
     "execution_count": 60,
     "metadata": {},
     "output_type": "execute_result"
    }
   ],
   "source": [
    "model.wv.most_similar(positive=['cuchillo', 'bosque'], negative=board['murderer'])"
   ]
  },
  {
   "cell_type": "code",
   "execution_count": 88,
   "id": "metallic-payday",
   "metadata": {},
   "outputs": [
    {
     "name": "stdout",
     "output_type": "stream",
     "text": [
      "(0.27643186, ('prensa', 'red', 'embajada'))\n"
     ]
    }
   ],
   "source": [
    "from itertools import combinations\n",
    "candidate_words = board['red']\n",
    "all_pairs = combinations(candidate_words, 3)\n",
    "scored_pairs = [(model.wv.similarity(p[0], p[1]), p)\n",
    "                for p in all_pairs]\n",
    "sorted_pairs = sorted(scored_pairs, reverse=True)\n",
    "print(sorted_pairs[0])  # first item is most-similar pair"
   ]
  },
  {
   "cell_type": "code",
   "execution_count": 89,
   "id": "light-questionnaire",
   "metadata": {},
   "outputs": [
    {
     "data": {
      "text/plain": [
       "[('Embajada', 0.5810344219207764),\n",
       " ('comunciación', 0.5428721904754639),\n",
       " ('legación', 0.5371121168136597),\n",
       " ('Prensa', 0.5246720910072327),\n",
       " ('prensa.La', 0.5230076909065247),\n",
       " ('prensaLa', 0.5183517932891846),\n",
       " ('cablegráfica', 0.5047746896743774),\n",
       " ('cancillería', 0.49862468242645264),\n",
       " ('Cancillería', 0.4959728419780731),\n",
       " ('comuniación', 0.4955418109893799)]"
      ]
     },
     "execution_count": 89,
     "metadata": {},
     "output_type": "execute_result"
    }
   ],
   "source": [
    "model.wv.most_similar(positive=['prensa', 'red', 'embajada'], negative=board['murderer'])"
   ]
  },
  {
   "cell_type": "code",
   "execution_count": 94,
   "id": "removable-tuition",
   "metadata": {},
   "outputs": [
    {
     "name": "stderr",
     "output_type": "stream",
     "text": [
      "[nltk_data] Downloading package wordnet to\n",
      "[nltk_data]     /Users/gallardo/nltk_data...\n",
      "[nltk_data]   Package wordnet is already up-to-date!\n",
      "[nltk_data] Downloading package omw to /Users/gallardo/nltk_data...\n",
      "[nltk_data]   Unzipping corpora/omw.zip.\n"
     ]
    },
    {
     "data": {
      "text/plain": [
       "True"
      ]
     },
     "execution_count": 94,
     "metadata": {},
     "output_type": "execute_result"
    }
   ],
   "source": [
    "nltk.download('wordnet')\n",
    "nltk.download('omw')"
   ]
  },
  {
   "cell_type": "code",
   "execution_count": 98,
   "id": "pacific-stretch",
   "metadata": {},
   "outputs": [
    {
     "name": "stdout",
     "output_type": "stream",
     "text": [
      "press.n.09 ['prensa', 'presión']\n",
      "press.n.07 ['prensa']\n",
      "press.n.02 ['prensa']\n"
     ]
    }
   ],
   "source": [
    "from nltk.corpus import wordnet as wn\n",
    "for syns in wn.synsets('prensa', lang='spa'):\n",
    "    print(syns.name(), syns.lemma_names(lang='spa'))\n",
    "    "
   ]
  },
  {
   "cell_type": "markdown",
   "id": "adjusted-hygiene",
   "metadata": {},
   "source": [
    "### Get Synonyms and Antonyms\n",
    "\n",
    "To improve the model, is a good idea use also the synonyms and antonyms. We have created this two methods to help us."
   ]
  },
  {
   "cell_type": "code",
   "execution_count": 234,
   "id": "round-syndicate",
   "metadata": {},
   "outputs": [],
   "source": [
    "def get_synonyms(word, lang='spa', output_lang='spa'):\n",
    "    synonyms = [syns.lemma_names(lang=output_lang) for syns in wn.synsets(word, lang=lang)]\n",
    "    flat = list([item for sublist in synonyms for item in sublist])\n",
    "    return sorted(set(flat),key=flat.count)[::-1]\n",
    "\n",
    "def get_antonyms(word, lang='spa'):\n",
    "    help_lang = 'eng'\n",
    "    translated_word = get_synonyms(word, lang=lang, output_lang=help_lang)\n",
    "    antonyms = []\n",
    "    for syns in wn.synsets(translated_word[0], lang=help_lang):\n",
    "        for lemma in syns.lemmas(lang=help_lang):\n",
    "            for antonym in lemma.antonyms():\n",
    "                antonyms_lemma = [syns.lemma_names(lang=lang) for syns in wn.synsets(antonym.name(), lang=help_lang)]\n",
    "                antonyms.append([item for sublist in antonyms_lemma for item in sublist])\n",
    "    flat = list([item for sublist in antonyms for item in sublist])\n",
    "    return sorted(set(flat),key=flat.count)[::-1]"
   ]
  },
  {
   "cell_type": "code",
   "execution_count": 235,
   "id": "judicial-channel",
   "metadata": {},
   "outputs": [
    {
     "name": "stdout",
     "output_type": "stream",
     "text": [
      "Synonyms: ['guerra', 'estado_de_guerra']\n",
      "Antonyms: ['paz', 'reposo', 'tranquilidad', 'tranquilidad_de_espíritu', 'serenidad', 'ataraxia', 'sosiego', 'tratado_de_paz', 'pacificación']\n"
     ]
    }
   ],
   "source": [
    "print('Synonyms:', get_synonyms('guerra'))\n",
    "print('Antonyms:', get_antonyms('guerra'))"
   ]
  },
  {
   "cell_type": "code",
   "execution_count": null,
   "id": "endless-stationery",
   "metadata": {},
   "outputs": [],
   "source": []
  }
 ],
 "metadata": {
  "kernelspec": {
   "display_name": "Python (condenames)",
   "language": "python",
   "name": "condenames"
  },
  "language_info": {
   "codemirror_mode": {
    "name": "ipython",
    "version": 3
   },
   "file_extension": ".py",
   "mimetype": "text/x-python",
   "name": "python",
   "nbconvert_exporter": "python",
   "pygments_lexer": "ipython3",
   "version": "3.6.8"
  }
 },
 "nbformat": 4,
 "nbformat_minor": 5
}
